{
 "cells": [
  {
   "cell_type": "markdown",
   "id": "2480ee9b",
   "metadata": {},
   "source": [
    "# List"
   ]
  },
  {
   "cell_type": "code",
   "execution_count": 2,
   "id": "d3584d7f",
   "metadata": {},
   "outputs": [
    {
     "name": "stdout",
     "output_type": "stream",
     "text": [
      "['sai', 67, 89.07, 'harish', True, 'sai', 89.07]\n",
      "<class 'list'>\n"
     ]
    }
   ],
   "source": [
    "l = [\"sai\",67,89.07,\"harish\",True,\"sai\",89.07]\n",
    "print(l)\n",
    "print(type(l))"
   ]
  },
  {
   "cell_type": "code",
   "execution_count": 6,
   "id": "038b9354",
   "metadata": {},
   "outputs": [
    {
     "name": "stdout",
     "output_type": "stream",
     "text": [
      "harish\n",
      "harish\n"
     ]
    }
   ],
   "source": [
    "#Access a particular value -> V_n[index] -> index(position)\n",
    "\n",
    "print(l[3])   #+'ve indexing\n",
    "print(l[-4])   #-'ve indexing"
   ]
  },
  {
   "cell_type": "code",
   "execution_count": 18,
   "id": "97c58077",
   "metadata": {},
   "outputs": [
    {
     "name": "stdout",
     "output_type": "stream",
     "text": [
      "['sai', 67, 89.07, 'farooq', True, 'sai', 89.07]\n",
      "[67, 89.07, 'farooq']\n",
      "['sai', 67, 89.07, 'farooq']\n",
      "['farooq', True, 'sai', 89.07]\n",
      "['sai', 67, 89.07, 'farooq', True, 'sai', 89.07]\n",
      "[89.07, 'sai', True, 'farooq', 89.07, 67, 'sai']\n"
     ]
    }
   ],
   "source": [
    "#Access Multiple values at a time -> slicing method -> V_n[StartIndex:StopIndex:Step]\n",
    "\n",
    "print(l)\n",
    "print(l[1:4])  #started at ceratin pos. and ending at certain pos.\n",
    "print(l[:4])   #started at beginning pos.(0) and ending at certain pos.\n",
    "print(l[3:])   #started at ceratin pos. and ending at end pos.\n",
    "print(l[:])    #reads all values at a time \n",
    "print(l[::-1])  #read values in reverse order"
   ]
  },
  {
   "cell_type": "code",
   "execution_count": 20,
   "id": "a6577fcd",
   "metadata": {},
   "outputs": [
    {
     "name": "stdout",
     "output_type": "stream",
     "text": [
      "['sai', 67, 89.07, 'farooq', True, 'sai', 89.07]\n",
      "['sai', 89.07, True, 89.07]\n"
     ]
    }
   ],
   "source": [
    "print(l)\n",
    "#Even position values from list\n",
    "\n",
    "print(l[::2])"
   ]
  },
  {
   "cell_type": "code",
   "execution_count": 8,
   "id": "6bbbc1fb",
   "metadata": {},
   "outputs": [
    {
     "name": "stdout",
     "output_type": "stream",
     "text": [
      "['sai', 67, 89.07, 'harish', True, 'sai', 89.07]\n",
      "['sai', 67, 89.07, 'farooq', True, 'sai', 89.07]\n"
     ]
    }
   ],
   "source": [
    "#Reassign -> V_n[index] = new_value -> index\n",
    "\n",
    "#Replace 3rd position value with new value\n",
    "print(l)\n",
    "l[3] = \"farooq\"\n",
    "print(l)"
   ]
  },
  {
   "cell_type": "code",
   "execution_count": 4,
   "id": "0b0acc0d",
   "metadata": {},
   "outputs": [
    {
     "name": "stdout",
     "output_type": "stream",
     "text": [
      "[]\n",
      "<class 'list'>\n",
      "\n",
      "[]\n",
      "<class 'list'>\n"
     ]
    }
   ],
   "source": [
    "#Empty List\n",
    "\n",
    "l1 = []\n",
    "print(l1)\n",
    "print(type(l1))\n",
    "print()\n",
    "\n",
    "l2 = list()\n",
    "print(l2)\n",
    "print(type(l2))"
   ]
  },
  {
   "cell_type": "code",
   "execution_count": 21,
   "id": "993e0e37",
   "metadata": {},
   "outputs": [
    {
     "name": "stdout",
     "output_type": "stream",
     "text": [
      "['sai', 67, 89.07, 'farooq', True, 'sai', 89.07]\n"
     ]
    }
   ],
   "source": [
    "print(l)"
   ]
  },
  {
   "cell_type": "code",
   "execution_count": 22,
   "id": "e816028b",
   "metadata": {},
   "outputs": [
    {
     "name": "stdout",
     "output_type": "stream",
     "text": [
      "7\n"
     ]
    }
   ],
   "source": [
    "#len(v_n)\n",
    "\n",
    "print(len(l))"
   ]
  },
  {
   "cell_type": "code",
   "execution_count": 24,
   "id": "6e67459d",
   "metadata": {},
   "outputs": [
    {
     "name": "stdout",
     "output_type": "stream",
     "text": [
      "0\n",
      "5\n"
     ]
    }
   ],
   "source": [
    "#index(value)-> V_n.index(value,start_Index)\n",
    "\n",
    "print(l.index(\"sai\"))\n",
    "print(l.index(\"sai\",1))"
   ]
  },
  {
   "cell_type": "code",
   "execution_count": 27,
   "id": "28eb670d",
   "metadata": {},
   "outputs": [
    {
     "name": "stdout",
     "output_type": "stream",
     "text": [
      "2\n",
      "1\n",
      "0\n"
     ]
    }
   ],
   "source": [
    "#count() -> V_n.count(value)\n",
    "\n",
    "print(l.count(\"sai\"))\n",
    "print(l.count(67))\n",
    "print(l.count(\"Girish\"))"
   ]
  },
  {
   "cell_type": "code",
   "execution_count": 32,
   "id": "919941fd",
   "metadata": {},
   "outputs": [
    {
     "name": "stdout",
     "output_type": "stream",
     "text": [
      "11\n",
      "94\n",
      "387\n"
     ]
    }
   ],
   "source": [
    "a = [89,12,33,16,11,87,45,94]\n",
    "\n",
    "#min() -> min(v_n)\n",
    "print(min(a))\n",
    "\n",
    "#max() -> max(v_n)\n",
    "print(max(a))\n",
    "\n",
    "#sum() -> sum(v_n)\n",
    "print(sum(a))"
   ]
  },
  {
   "cell_type": "code",
   "execution_count": 33,
   "id": "13eeafaf",
   "metadata": {},
   "outputs": [
    {
     "name": "stdout",
     "output_type": "stream",
     "text": [
      "sum: 387\n"
     ]
    }
   ],
   "source": [
    "#finding sum of all values in list\n",
    "\n",
    "a = [89,12,33,16,11,87,45,94]\n",
    "\n",
    "s = 0\n",
    "for i in a:\n",
    "    s = s+i\n",
    "print(\"sum:\",s)"
   ]
  },
  {
   "cell_type": "code",
   "execution_count": null,
   "id": "88e4f195",
   "metadata": {},
   "outputs": [],
   "source": [
    "#find minimum and maximum values from the list\n",
    "a = [89,12,33,16,11,87,45,94]"
   ]
  },
  {
   "cell_type": "code",
   "execution_count": 61,
   "id": "5452f9dc",
   "metadata": {},
   "outputs": [
    {
     "name": "stdout",
     "output_type": "stream",
     "text": [
      "94\n"
     ]
    }
   ],
   "source": [
    "#maximum value\n",
    "\n",
    "a = [89,12,33,16,11,87,45,94]\n",
    "\n",
    "max_value = 0\n",
    "for i in a:\n",
    "    if max_value == 0 or max_value < i:\n",
    "        max_value = i\n",
    "        \n",
    "print(max_value)"
   ]
  },
  {
   "cell_type": "code",
   "execution_count": 67,
   "id": "fa61f743",
   "metadata": {},
   "outputs": [
    {
     "name": "stdout",
     "output_type": "stream",
     "text": [
      "11\n"
     ]
    }
   ],
   "source": [
    "#minimum value\n",
    "\n",
    "a = [89,12,33,16,11,87,45,94]\n",
    "\n",
    "min_value = 0\n",
    "for i in a:\n",
    "    if min_value == 0 or min_value > i:\n",
    "        min_value = i\n",
    "        \n",
    "print(min_value)"
   ]
  },
  {
   "cell_type": "code",
   "execution_count": 35,
   "id": "a23b3ca2",
   "metadata": {},
   "outputs": [
    {
     "name": "stdout",
     "output_type": "stream",
     "text": [
      "['sai', 67, 89.07, 'farooq', True, 'sai', 89.07]\n"
     ]
    }
   ],
   "source": [
    "print(l)"
   ]
  },
  {
   "cell_type": "code",
   "execution_count": 36,
   "id": "22c45245",
   "metadata": {},
   "outputs": [
    {
     "name": "stdout",
     "output_type": "stream",
     "text": [
      "['sai', 67, 89.07, 'farooq', True, 'sai', 89.07, 'laxmi']\n"
     ]
    }
   ],
   "source": [
    "#add new value to a list\n",
    "#append()-> v_n.append(newvalue) \n",
    "\n",
    "l.append(\"laxmi\")\n",
    "print(l)"
   ]
  },
  {
   "cell_type": "code",
   "execution_count": 37,
   "id": "a21d1ecd",
   "metadata": {},
   "outputs": [
    {
     "name": "stdout",
     "output_type": "stream",
     "text": [
      "['sai', 67, 89.07, 'farooq', True, 'sai', 89.07, 'laxmi', 'pavan', 60, 56.89, 'mani']\n"
     ]
    }
   ],
   "source": [
    "#extend()-> v_n.extend([newvalue1,newvalue2,-------]) \n",
    "\n",
    "l.extend([\"pavan\",60,56.89,\"mani\"])\n",
    "print(l)"
   ]
  },
  {
   "cell_type": "code",
   "execution_count": 38,
   "id": "cf5d6b35",
   "metadata": {},
   "outputs": [
    {
     "name": "stdout",
     "output_type": "stream",
     "text": [
      "['sai', 67, 'kiran', 89.07, 'farooq', True, 'sai', 89.07, 'laxmi', 'pavan', 60, 56.89, 'mani']\n"
     ]
    }
   ],
   "source": [
    "#insert()-> v_n.insert(index,newvalue)\n",
    "\n",
    "l.insert(2,\"kiran\")\n",
    "print(l)"
   ]
  },
  {
   "cell_type": "code",
   "execution_count": 39,
   "id": "b1bce916",
   "metadata": {},
   "outputs": [
    {
     "name": "stdout",
     "output_type": "stream",
     "text": [
      "['sai', 67, 'kiran', 89.07, 'farooq', True, 'sai', 89.07, 'laxmi', 'pavan', 60, 56.89, 'mani']\n",
      "mani\n",
      "['sai', 67, 'kiran', 89.07, 'farooq', True, 'sai', 89.07, 'laxmi', 'pavan', 60, 56.89]\n"
     ]
    }
   ],
   "source": [
    "#Delete values from list\n",
    "\n",
    "#pop()-> v_n.pop()\n",
    "print(l)\n",
    "print(l.pop())\n",
    "print(l)"
   ]
  },
  {
   "cell_type": "code",
   "execution_count": 40,
   "id": "2005485c",
   "metadata": {},
   "outputs": [
    {
     "name": "stdout",
     "output_type": "stream",
     "text": [
      "['sai', 67, 'kiran', 89.07, 'farooq', True, 'sai', 89.07, 'laxmi', 'pavan', 60, 56.89]\n",
      "89.07\n",
      "['sai', 67, 'kiran', 'farooq', True, 'sai', 89.07, 'laxmi', 'pavan', 60, 56.89]\n"
     ]
    }
   ],
   "source": [
    "#pop()-> v_n.pop(index)\n",
    "print(l)\n",
    "print(l.pop(3))\n",
    "print(l)"
   ]
  },
  {
   "cell_type": "code",
   "execution_count": 41,
   "id": "e7e0f5cc",
   "metadata": {},
   "outputs": [
    {
     "name": "stdout",
     "output_type": "stream",
     "text": [
      "['sai', 67, 'kiran', 'farooq', True, 'sai', 89.07, 'laxmi', 'pavan', 60, 56.89]\n",
      "[67, 'kiran', 'farooq', True, 'sai', 89.07, 'laxmi', 'pavan', 60, 56.89]\n"
     ]
    }
   ],
   "source": [
    "#remove() -> v_n.remove(value)\n",
    "print(l)\n",
    "l.remove(\"sai\")\n",
    "print(l)"
   ]
  },
  {
   "cell_type": "code",
   "execution_count": 42,
   "id": "22c13396",
   "metadata": {},
   "outputs": [
    {
     "name": "stdout",
     "output_type": "stream",
     "text": [
      "[67, 'kiran', 'farooq', True, 'sai', 89.07, 'laxmi', 'pavan', 60, 56.89]\n",
      "[67, 'kiran', 'farooq', 'sai', 89.07, 'laxmi', 'pavan', 60, 56.89]\n"
     ]
    }
   ],
   "source": [
    "#del -> del v_n[index]\n",
    "\n",
    "print(l)\n",
    "del l[3]\n",
    "print(l)"
   ]
  },
  {
   "cell_type": "code",
   "execution_count": 43,
   "id": "6e9504c4",
   "metadata": {},
   "outputs": [
    {
     "name": "stdout",
     "output_type": "stream",
     "text": [
      "[67, 'kiran', 'farooq', 'sai', 89.07, 'laxmi', 'pavan', 60, 56.89]\n",
      "[]\n"
     ]
    }
   ],
   "source": [
    "#clear() -> v_n.clear()\n",
    "\n",
    "print(l)\n",
    "l.clear()\n",
    "print(l)"
   ]
  },
  {
   "cell_type": "code",
   "execution_count": 44,
   "id": "c528dcf9",
   "metadata": {},
   "outputs": [
    {
     "ename": "NameError",
     "evalue": "name 'l' is not defined",
     "output_type": "error",
     "traceback": [
      "\u001b[1;31m---------------------------------------------------------------------------\u001b[0m",
      "\u001b[1;31mNameError\u001b[0m                                 Traceback (most recent call last)",
      "Input \u001b[1;32mIn [44]\u001b[0m, in \u001b[0;36m<cell line: 4>\u001b[1;34m()\u001b[0m\n\u001b[0;32m      1\u001b[0m \u001b[38;5;66;03m#del v_n\u001b[39;00m\n\u001b[0;32m      3\u001b[0m \u001b[38;5;28;01mdel\u001b[39;00m l\n\u001b[1;32m----> 4\u001b[0m \u001b[38;5;28mprint\u001b[39m(\u001b[43ml\u001b[49m)\n",
      "\u001b[1;31mNameError\u001b[0m: name 'l' is not defined"
     ]
    }
   ],
   "source": [
    "#del v_n\n",
    "\n",
    "del l\n",
    "print(l)"
   ]
  },
  {
   "cell_type": "markdown",
   "id": "5eb5f8fb",
   "metadata": {},
   "source": [
    "<h2>List Operators</h2>\n",
    "\n",
    "1. Concatenation Operator\n",
    "2. Repetition Operator"
   ]
  },
  {
   "cell_type": "code",
   "execution_count": 47,
   "id": "46f0de4f",
   "metadata": {},
   "outputs": [
    {
     "name": "stdout",
     "output_type": "stream",
     "text": [
      "[45, 78, 'usha']\n",
      "['pavan', 67, 90.06]\n",
      "[45, 78, 'usha', 'pavan', 67, 90.06]\n"
     ]
    }
   ],
   "source": [
    "#concatenation(+)\n",
    "\n",
    "l1 = [45,78,\"usha\"]\n",
    "l2 = [\"pavan\",67,90.06]\n",
    "l3 = l1+l2\n",
    "print(l1)\n",
    "print(l2)\n",
    "print(l3)"
   ]
  },
  {
   "cell_type": "code",
   "execution_count": 50,
   "id": "4042b212",
   "metadata": {},
   "outputs": [
    {
     "name": "stdout",
     "output_type": "stream",
     "text": [
      "[45, 78, 'usha']\n",
      "[45, 78, 'usha', 45, 78, 'usha']\n"
     ]
    }
   ],
   "source": [
    "#repetition(*)\n",
    "\n",
    "l1 = [45,78,\"usha\"]\n",
    "l2 = l1*2\n",
    "print(l1)\n",
    "print(l2)"
   ]
  },
  {
   "cell_type": "code",
   "execution_count": 52,
   "id": "efe739f4",
   "metadata": {},
   "outputs": [
    {
     "name": "stdout",
     "output_type": "stream",
     "text": [
      "45 78 usha kiran 89 12.89 "
     ]
    }
   ],
   "source": [
    "#iterate list\n",
    "\n",
    "l1 = [45,78,\"usha\",\"kiran\",89,12.89]\n",
    "\n",
    "for i in l1:\n",
    "    print(i,end=\" \")"
   ]
  },
  {
   "cell_type": "code",
   "execution_count": 53,
   "id": "7134794a",
   "metadata": {},
   "outputs": [
    {
     "name": "stdout",
     "output_type": "stream",
     "text": [
      "[45, 78, 'usha', 'kiran', 89, 12.89]\n",
      "[45, 78, 'usha', 'kiran', 89, 12.89]\n"
     ]
    }
   ],
   "source": [
    "#copy()\n",
    "\n",
    "l1 = [45,78,\"usha\",\"kiran\",89,12.89]   #original\n",
    "l2 = l1.copy()   #duplicated\n",
    "\n",
    "print(l1)\n",
    "print(l2)"
   ]
  },
  {
   "cell_type": "code",
   "execution_count": 54,
   "id": "06c07985",
   "metadata": {},
   "outputs": [
    {
     "name": "stdout",
     "output_type": "stream",
     "text": [
      "[45, 78, 'usha', 'kiran', 89, 12.89, 'vani']\n"
     ]
    }
   ],
   "source": [
    "l2.append(\"vani\")\n",
    "print(l2)"
   ]
  },
  {
   "cell_type": "code",
   "execution_count": 55,
   "id": "9eab57cb",
   "metadata": {},
   "outputs": [
    {
     "name": "stdout",
     "output_type": "stream",
     "text": [
      "[45, 78, 'usha', 'kiran', 89, 12.89]\n"
     ]
    }
   ],
   "source": [
    "print(l1)"
   ]
  },
  {
   "cell_type": "code",
   "execution_count": 57,
   "id": "5b0b8892",
   "metadata": {},
   "outputs": [
    {
     "name": "stdout",
     "output_type": "stream",
     "text": [
      "Original list: [45, 78, 'usha', 'kiran', 89, 12.89]\n",
      "After reversing the list : [12.89, 89, 'kiran', 'usha', 78, 45]\n"
     ]
    }
   ],
   "source": [
    "#reverse()-> v_n.reverse()\n",
    "\n",
    "l1 = [45,78,\"usha\",\"kiran\",89,12.89]\n",
    "print(\"Original list:\",l1)\n",
    "l1.reverse()\n",
    "print(\"After reversing the list :\",l1)"
   ]
  },
  {
   "cell_type": "code",
   "execution_count": 59,
   "id": "16657581",
   "metadata": {},
   "outputs": [
    {
     "name": "stdout",
     "output_type": "stream",
     "text": [
      "[89, 12, 33, 16, 11, 87, 45, 94]\n",
      "[11, 12, 16, 33, 45, 87, 89, 94]\n"
     ]
    }
   ],
   "source": [
    "#sort() -> ascending /descending order\n",
    "\n",
    "a = [89,12,33,16,11,87,45,94]\n",
    "print(a)\n",
    "a.sort() #ascending\n",
    "print(a)"
   ]
  },
  {
   "cell_type": "code",
   "execution_count": 60,
   "id": "19df312e",
   "metadata": {},
   "outputs": [
    {
     "name": "stdout",
     "output_type": "stream",
     "text": [
      "[89, 12, 33, 16, 11, 87, 45, 94]\n",
      "[94, 89, 87, 45, 33, 16, 12, 11]\n"
     ]
    }
   ],
   "source": [
    "a = [89,12,33,16,11,87,45,94]\n",
    "print(a)\n",
    "a.sort(reverse=True) #descending\n",
    "print(a)"
   ]
  },
  {
   "cell_type": "markdown",
   "id": "1eeefb4f",
   "metadata": {},
   "source": [
    "# List Comprehension"
   ]
  },
  {
   "cell_type": "code",
   "execution_count": 2,
   "id": "78ca2f5f",
   "metadata": {},
   "outputs": [
    {
     "name": "stdout",
     "output_type": "stream",
     "text": [
      "[89, 12, 33, 16, 11, 87, 45, 94]\n",
      "[89, 33, 11, 45]\n"
     ]
    }
   ],
   "source": [
    "a = [89,12,33,16,11,87,45,94]\n",
    "print(a)\n",
    "\n",
    "#even positioned values->slicing\n",
    "b = a[::2]\n",
    "print(b)"
   ]
  },
  {
   "cell_type": "code",
   "execution_count": 3,
   "id": "19e62b40",
   "metadata": {},
   "outputs": [
    {
     "name": "stdout",
     "output_type": "stream",
     "text": [
      "[12, 16, 94]\n"
     ]
    }
   ],
   "source": [
    "a = [89,12,33,16,11,87,45,94]\n",
    "\n",
    "#print even values as my new list\n",
    "\n",
    "b = [] #empty list\n",
    "for i in a:\n",
    "    if i%2 == 0:\n",
    "        b.append(i)\n",
    "print(b)"
   ]
  },
  {
   "cell_type": "code",
   "execution_count": 8,
   "id": "9cdd50b0",
   "metadata": {},
   "outputs": [
    {
     "name": "stdout",
     "output_type": "stream",
     "text": [
      "89 12 33 16 11 87 45 94 \n",
      " <class 'int'>\n"
     ]
    }
   ],
   "source": [
    "a = [89,12,33,16,11,87,45,94]\n",
    "\n",
    "#iterate\n",
    "\n",
    "for i in a:\n",
    "    print(i,end=\" \")\n",
    "    \n",
    "print(\"\\n\",type(i))"
   ]
  },
  {
   "cell_type": "code",
   "execution_count": 9,
   "id": "e8ccd5b9",
   "metadata": {},
   "outputs": [
    {
     "name": "stdout",
     "output_type": "stream",
     "text": [
      "[89, 12, 33, 16, 11, 87, 45, 94]\n",
      "<class 'list'>\n"
     ]
    }
   ],
   "source": [
    "#[expression for v_n in SDT]\n",
    "\n",
    "a = [89,12,33,16,11,87,45,94]\n",
    "x = [i for i in a]\n",
    "print(x)\n",
    "print(type(x))"
   ]
  },
  {
   "cell_type": "code",
   "execution_count": 4,
   "id": "e29c0110",
   "metadata": {},
   "outputs": [
    {
     "name": "stdout",
     "output_type": "stream",
     "text": [
      "[12, 16, 94]\n"
     ]
    }
   ],
   "source": [
    "#[expression for v_n in SDT if condition]\n",
    "\n",
    "a = [89,12,33,16,11,87,45,94]\n",
    "\n",
    "#print even values as my new list\n",
    "\n",
    "b = [i for i in a if i%2==0]\n",
    "print(b)"
   ]
  },
  {
   "cell_type": "markdown",
   "id": "2a156762",
   "metadata": {},
   "source": [
    "# Tuple and Set Comprehension"
   ]
  },
  {
   "cell_type": "code",
   "execution_count": 13,
   "id": "c95ea593",
   "metadata": {},
   "outputs": [
    {
     "name": "stdout",
     "output_type": "stream",
     "text": [
      "{33, 11, 12, 45, 16, 87, 89, 94}\n",
      "<class 'set'>\n"
     ]
    }
   ],
   "source": [
    "a = [89,12,33,16,11,87,45,94]\n",
    "\n",
    "#iterate\n",
    "x = tuple([i for i in a])\n",
    "print(x)\n",
    "print(type(x))"
   ]
  },
  {
   "cell_type": "code",
   "execution_count": 14,
   "id": "f5397118",
   "metadata": {},
   "outputs": [
    {
     "name": "stdout",
     "output_type": "stream",
     "text": [
      "{33, 11, 12, 45, 16, 87, 89, 94}\n",
      "<class 'set'>\n"
     ]
    }
   ],
   "source": [
    "a = [89,12,33,16,11,87,45,94]\n",
    "\n",
    "#iterate\n",
    "x = set([i for i in a])\n",
    "print(x)\n",
    "print(type(x))"
   ]
  },
  {
   "cell_type": "code",
   "execution_count": null,
   "id": "3ca27721",
   "metadata": {},
   "outputs": [],
   "source": []
  }
 ],
 "metadata": {
  "kernelspec": {
   "display_name": "Python 3 (ipykernel)",
   "language": "python",
   "name": "python3"
  },
  "language_info": {
   "codemirror_mode": {
    "name": "ipython",
    "version": 3
   },
   "file_extension": ".py",
   "mimetype": "text/x-python",
   "name": "python",
   "nbconvert_exporter": "python",
   "pygments_lexer": "ipython3",
   "version": "3.10.4"
  }
 },
 "nbformat": 4,
 "nbformat_minor": 5
}
